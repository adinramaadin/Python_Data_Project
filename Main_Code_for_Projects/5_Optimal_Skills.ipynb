{
 "cells": [
  {
   "cell_type": "markdown",
   "metadata": {},
   "source": [
    "# **What is the most optimal skill to learn for Data Analysts?**\n",
    "\n",
    "### **Methodology**\n",
    "1. Continue from last notebook to find percent of postings with skill\n",
    "2. Visualize median salary vs percent skill demand\n",
    "3. (Optional) Determine if certain technologies are more prevalent\n",
    "\n",
    "### **Original Exploration**\n",
    "[15_Matplotlib_Scatter_Plots.ipynb](https://github.com/adinramaadin/Python_Project-2_Data-Job-Market/blob/main/Exploring_the_Data/14_Matplotlib_Scatter_Plots.ipynb)\n",
    "\n",
    "[16_Matplotlib_Advanced_Customization.ipynb](https://github.com/adinramaadin/Python_Project-2_Data-Job-Market/blob/main/Exploring_the_Data/15_Matplotlib_Advanced_Customization.ipynb)"
   ]
  },
  {
   "cell_type": "markdown",
   "metadata": {},
   "source": []
  }
 ],
 "metadata": {
  "language_info": {
   "name": "python"
  }
 },
 "nbformat": 4,
 "nbformat_minor": 2
}
