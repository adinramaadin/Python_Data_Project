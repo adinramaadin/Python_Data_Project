{
 "cells": [
  {
   "cell_type": "code",
   "execution_count": 1,
   "metadata": {},
   "outputs": [],
   "source": [
    "#Importing Libraries\n",
    "import pandas as pd\n",
    "from datasets import load_dataset\n",
    "import matplotlib.pyplot as plt\n",
    "\n",
    "#Loading Data\n",
    "dataset = load_dataset('lukebarousse/data_jobs')\n",
    "df = dataset['train'].to_pandas()\n",
    "\n",
    "#Data Cleanup\n",
    "df['job_posted_date'] = pd.to_datetime(df['job_posted_date'])"
   ]
  },
  {
   "cell_type": "code",
   "execution_count": 2,
   "metadata": {},
   "outputs": [],
   "source": [
    "import ast"
   ]
  },
  {
   "cell_type": "code",
   "execution_count": 3,
   "metadata": {},
   "outputs": [
    {
     "data": {
      "text/plain": [
       "0                                                      None\n",
       "1                [r, python, sql, nosql, power bi, tableau]\n",
       "2         [python, sql, c#, azure, airflow, dax, docker,...\n",
       "3         [python, c++, java, matlab, aws, tensorflow, k...\n",
       "4         [bash, python, oracle, aws, ansible, puppet, j...\n",
       "                                ...                        \n",
       "785736    [bash, python, perl, linux, unix, kubernetes, ...\n",
       "785737                               [sas, sas, sql, excel]\n",
       "785738                                  [powerpoint, excel]\n",
       "785739    [python, go, nosql, sql, mongo, shell, mysql, ...\n",
       "785740                                          [aws, flow]\n",
       "Name: job_skills, Length: 785741, dtype: object"
      ]
     },
     "execution_count": 3,
     "metadata": {},
     "output_type": "execute_result"
    }
   ],
   "source": [
    "def clean_list(skill_list):\n",
    "    if pd.notna(skill_list):\n",
    "        return ast.literal_eval(skill_list)\n",
    "\n",
    "df['job_skills'] = df['job_skills'].apply(clean_list)\n",
    "\n",
    "df['job_skills']"
   ]
  },
  {
   "cell_type": "code",
   "execution_count": 7,
   "metadata": {},
   "outputs": [
    {
     "data": {
      "text/plain": [
       "['r', 'python', 'sql', 'nosql', 'power bi', 'tableau']"
      ]
     },
     "execution_count": 7,
     "metadata": {},
     "output_type": "execute_result"
    }
   ],
   "source": [
    "df['job_skills'][1]"
   ]
  },
  {
   "cell_type": "code",
   "execution_count": 2,
   "metadata": {},
   "outputs": [],
   "source": [
    "import ast\n",
    "df['job_skills'] = df['job_skills'].apply(lambda x: ast.literal_eval(x) if pd.notna(x) else x)"
   ]
  },
  {
   "cell_type": "code",
   "execution_count": 4,
   "metadata": {},
   "outputs": [
    {
     "data": {
      "text/plain": [
       "['r', 'python', 'sql', 'nosql', 'power bi', 'tableau']"
      ]
     },
     "execution_count": 4,
     "metadata": {},
     "output_type": "execute_result"
    }
   ],
   "source": [
    "df['job_skills'][1]"
   ]
  }
 ],
 "metadata": {
  "kernelspec": {
   "display_name": "python_course",
   "language": "python",
   "name": "python3"
  },
  "language_info": {
   "codemirror_mode": {
    "name": "ipython",
    "version": 3
   },
   "file_extension": ".py",
   "mimetype": "text/x-python",
   "name": "python",
   "nbconvert_exporter": "python",
   "pygments_lexer": "ipython3",
   "version": "3.11.10"
  }
 },
 "nbformat": 4,
 "nbformat_minor": 2
}
